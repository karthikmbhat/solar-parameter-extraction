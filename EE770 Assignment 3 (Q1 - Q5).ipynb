{
 "cells": [
  {
   "cell_type": "code",
   "execution_count": 1,
   "metadata": {},
   "outputs": [],
   "source": [
    "import numpy as np\n",
    "import math\n",
    "from scipy.optimize import fsolve\n",
    "import pvlib"
   ]
  },
  {
   "cell_type": "code",
   "execution_count": 2,
   "metadata": {},
   "outputs": [],
   "source": [
    "Vmp = 36.6\n",
    "Imp = 8.20\n",
    "Voc = 45.3\n",
    "Isc= 8.84 \n",
    "Ncell = 72"
   ]
  },
  {
   "cell_type": "code",
   "execution_count": 3,
   "metadata": {},
   "outputs": [
    {
     "name": "stdout",
     "output_type": "stream",
     "text": [
      "Vt= 0.02571543749999999\n"
     ]
    }
   ],
   "source": [
    "k = 1.38 * (10**-23)\n",
    "q = 1.6 * (10**-19)\n",
    "T = 298.15 # Temp in kelvin\n",
    "Vt = (k * T) / q\n",
    "print (\"Vt=\",Vt)"
   ]
  },
  {
   "cell_type": "markdown",
   "metadata": {},
   "source": [
    "# Q1"
   ]
  },
  {
   "cell_type": "code",
   "execution_count": 4,
   "metadata": {},
   "outputs": [],
   "source": [
    "def eta_initial():\n",
    "    n1 = 2*Vmp - Voc\n",
    "    n2 = Ncell * Vt\n",
    "    n3 = np.log((Isc - Imp) / Isc)\n",
    "    n4 = Imp / (Isc - Imp)\n",
    "    n5 = n1 / (n2 * (n3 + n4))\n",
    "    #print ( \"inieta = \", n5)\n",
    "    return n5"
   ]
  },
  {
   "cell_type": "code",
   "execution_count": 5,
   "metadata": {},
   "outputs": [
    {
     "name": "stdout",
     "output_type": "stream",
     "text": [
      "1.4792263592070725\n"
     ]
    }
   ],
   "source": [
    "eta_initial()\n",
    "eta_ini = eta_initial()\n",
    "#x= int(ini1)\n",
    "print (eta_ini)\n",
    "#print (x)"
   ]
  },
  {
   "cell_type": "code",
   "execution_count": 6,
   "metadata": {},
   "outputs": [],
   "source": [
    "def Rs_initial():\n",
    "    n1 = Vmp/Imp\n",
    "    n2 = (2*Vmp-Voc)/(Isc-Imp)\n",
    "    n3 = (np.log((Isc-Imp)/Isc)+(Imp/(Isc-Imp)))\n",
    "    n4 = n2/n3\n",
    "    n5 = n1-n4\n",
    "    return n5"
   ]
  },
  {
   "cell_type": "code",
   "execution_count": 7,
   "metadata": {},
   "outputs": [
    {
     "name": "stdout",
     "output_type": "stream",
     "text": [
      "Rs_initial =  0.1840324229353696 Ohms\n"
     ]
    }
   ],
   "source": [
    "Rs_initial()\n",
    "Rs_ini=Rs_initial()\n",
    "print (\"Rs_initial = \",Rs_ini,\"Ohms\")"
   ]
  },
  {
   "cell_type": "code",
   "execution_count": 8,
   "metadata": {},
   "outputs": [],
   "source": [
    "def Rsh_initial():\n",
    "    n1 = Isc/(eta_ini*Ncell*Vt)\n",
    "    #print (n1)\n",
    "    n2 = (Rs_ini*Isc-Voc)/(eta_ini*Ncell*Vt)\n",
    "    #print (n2)\n",
    "    n3 = np.exp(n2)\n",
    "    #print (n3)\n",
    "    n4 = n1*n3\n",
    "    n5 = Rs_ini/n4\n",
    "    #print (n5)\n",
    "    n6 = np.sqrt(n5)\n",
    "    return n6"
   ]
  },
  {
   "cell_type": "code",
   "execution_count": 9,
   "metadata": {},
   "outputs": [
    {
     "name": "stdout",
     "output_type": "stream",
     "text": [
      "Rsh_initial =  692.859766596422 Ohms\n"
     ]
    }
   ],
   "source": [
    "Rsh_initial()\n",
    "Rsh_ini=Rsh_initial()\n",
    "print (\"Rsh_initial = \",Rsh_ini,\"Ohms\")"
   ]
  },
  {
   "cell_type": "markdown",
   "metadata": {},
   "source": [
    "# Q2"
   ]
  },
  {
   "cell_type": "code",
   "execution_count": 10,
   "metadata": {},
   "outputs": [
    {
     "name": "stdout",
     "output_type": "stream",
     "text": [
      "[1.39744677e+00 2.17215097e-01 1.10489487e+03]\n"
     ]
    }
   ],
   "source": [
    "def parameter_function(x):\n",
    "    eta = x[0]\n",
    "    Rs  = x[1]\n",
    "    Rsh = x[2]\n",
    "    F=np.zeros(np.size(x))\n",
    "    F[0] = Imp-Isc+(Vmp+Imp*Rs-Isc*Rs)/Rsh+(Isc-(Voc-Isc*Rs)/Rsh )*(np.exp((-Voc+Vmp+Imp*Rs)/(eta*Ncell*Vt ))) \n",
    "    F[1] = Imp+Vmp*(((-(-Voc+Isc*Rsh+Isc*Rs)/(eta*Ncell*Vt*Rsh ))* (np.exp((-Voc+Vmp+Imp*Rs)/(eta*Ncell*Vt )))-1/Rsh) /(1+((-Voc+Isc*Rsh+Isc*Rs)/(eta*Ncell*Vt*Rsh))*Rs*(np.exp((-Voc+Vmp+Imp*Rs)/(eta*Ncell*Vt )))+Rs/Rsh ))\n",
    "    F[2] = 1/Rsh+(((-(-Voc+Isc*Rsh+Isc*Rs)/(eta*Ncell*Vt*Rsh ))* (np.exp((-Voc+Isc*Rs)/(eta*Ncell*Vt )))-1/Rsh) /(1+((-Voc+Isc*Rsh+Isc*Rs)/(eta*Ncell*Vt*Rsh))*Rs*(np.exp((-Voc+Isc*Rs)/(eta*Ncell*Vt )))+Rs/Rsh ))\n",
    "    return F\n",
    "\n",
    "x_ini = np.array([eta_ini,Rs_ini,Rsh_ini])\n",
    "x = fsolve(parameter_function,x_ini)\n",
    "print (x)"
   ]
  },
  {
   "cell_type": "code",
   "execution_count": 11,
   "metadata": {},
   "outputs": [
    {
     "name": "stdout",
     "output_type": "stream",
     "text": [
      "eta= 1.3974467720580908\n",
      "Rs= 0.21721509749730586\n",
      "Rsh= 1104.8948729303456\n"
     ]
    }
   ],
   "source": [
    "eta = x[0]\n",
    "Rs  = x[1]\n",
    "Rsh = x[2]\n",
    "print(\"eta=\",eta)\n",
    "print(\"Rs=\",Rs)\n",
    "print(\"Rsh=\",Rsh)"
   ]
  },
  {
   "cell_type": "code",
   "execution_count": 12,
   "metadata": {},
   "outputs": [],
   "source": [
    "def I_saturation():\n",
    "    n1=(Voc-Isc*Rs)/Rsh\n",
    "    n2=Isc-n1\n",
    "    #print(n2)\n",
    "    n3=np.exp(-Voc/(eta*Ncell*Vt))\n",
    "    #print(n3)\n",
    "    n4=n2*n3\n",
    "    return n4"
   ]
  },
  {
   "cell_type": "code",
   "execution_count": 13,
   "metadata": {},
   "outputs": [
    {
     "name": "stdout",
     "output_type": "stream",
     "text": [
      "Isat  =  2.1922584839244864e-07 Amps\n"
     ]
    }
   ],
   "source": [
    "I_saturation()\n",
    "Isat=I_saturation()\n",
    "print (\"Isat  = \",Isat,\"Amps\")"
   ]
  },
  {
   "cell_type": "code",
   "execution_count": 14,
   "metadata": {},
   "outputs": [],
   "source": [
    "def I_photon():\n",
    "    n1=np.exp(Voc/(eta*Ncell*Vt))\n",
    "    #print(n1))\n",
    "    n2=Isat*n1\n",
    "    #print(n2)\n",
    "    n3=Voc/Rsh\n",
    "    #print(n3)\n",
    "    n4=n2+n3\n",
    "    return n4"
   ]
  },
  {
   "cell_type": "code",
   "execution_count": 15,
   "metadata": {},
   "outputs": [
    {
     "name": "stdout",
     "output_type": "stream",
     "text": [
      "Iph =  8.841737886118327 Amps\n"
     ]
    }
   ],
   "source": [
    "I_photon()\n",
    "Iph=I_photon()\n",
    "print (\"Iph = \",Iph,\"Amps\")"
   ]
  },
  {
   "cell_type": "markdown",
   "metadata": {},
   "source": [
    "# Q3"
   ]
  },
  {
   "cell_type": "code",
   "execution_count": 16,
   "metadata": {},
   "outputs": [
    {
     "name": "stdout",
     "output_type": "stream",
     "text": [
      "Voc= 45.300000000011885\n"
     ]
    }
   ],
   "source": [
    "def V_oc(x):\n",
    "    Voc=x[0]\n",
    "    F=np.zeros(np.size(x))\n",
    "    F[0]= Iph-Isat*(np.exp(Voc/(eta*Ncell*Vt)))-Voc/Rsh \n",
    "    return F\n",
    "\n",
    "x=fsolve(V_oc,72*0.6)\n",
    "Voc=x[0]\n",
    "print(\"Voc=\",Voc)"
   ]
  },
  {
   "cell_type": "code",
   "execution_count": 17,
   "metadata": {},
   "outputs": [],
   "source": [
    "i=[]\n",
    "\n",
    "def I_sc(x):\n",
    "    I=x[0]\n",
    "    F=np.zeros(np.size(x))\n",
    "    F[0]= -I + Iph - Isat*(np.exp((V+I*Rs) / (eta*Ncell*Vt))-1) - (V+I*Rs)/Rsh\n",
    "    return F"
   ]
  },
  {
   "cell_type": "code",
   "execution_count": 18,
   "metadata": {},
   "outputs": [
    {
     "name": "stdout",
     "output_type": "stream",
     "text": [
      "I= [8.839999758809823, 8.839838975834416, 8.839678190534592, 8.839517402745182, 8.83935661228929, 8.839195818977442, 8.839035022606707, 8.83887422295973, 8.838713419803714, 8.83855261288932, 8.838391801949493, 8.838230986698198, 8.838070166829082, 8.837909342014019, 8.837748511901566, 8.837587676115312, 8.8374268342521, 8.837265985880121, 8.837105130536889, 8.836944267727052, 8.836783396920062, 8.836622517547669, 8.836461629001251, 8.836300730628937, 8.836139821732532, 8.835978901564237, 8.835817969323113, 8.835657024151313, 8.835496065130028, 8.835335091275173, 8.835174101532724, 8.835013094773775, 8.834852069789193, 8.83469102528394, 8.834529959870949, 8.834368872064596, 8.8342077602737, 8.834046622794004, 8.833885457800168, 8.833724263337142, 8.833563037310961, 8.83340177747887, 8.83324048143875, 8.833079146617807, 8.832917770260424, 8.83275634941519, 8.83259488092097, 8.832433361392024, 8.832271787202023, 8.832110154466978, 8.831948459026911, 8.831786696426262, 8.831624861892873, 8.831462950315503, 8.831300956219723, 8.831138873742123, 8.830976696602665, 8.830814418075075, 8.83065203095515, 8.830489527526787, 8.830326899525616, 8.830164138100045, 8.830001233769531, 8.82983817637989, 8.829674955055443, 8.829511558147741, 8.829347973180658, 8.829184186791592, 8.829020184668469, 8.828855951482282, 8.828691470814848, 8.828526725081403, 8.828361695447729, 8.828196361741373, 8.82803070235657, 8.8278646941524, 8.827698312343722, 8.827531530384354, 8.827364319841953, 8.827196650264005, 8.827028489034301, 8.826859801219221, 8.826690549403077, 8.826520693511785, 8.826350190624007, 8.826178994768858, 8.826007056709274, 8.825834323709971, 8.82566073928893, 8.82548624295124, 8.825310769904021, 8.825134250751125, 8.824956611166128, 8.824777771542125, 8.824597646616644, 8.824416145069929, 8.824233169094706, 8.824048613935393, 8.823862367394604, 8.823674309304616, 8.823484310961328, 8.823292234518018, 8.823097932336106, 8.82290124628981, 8.822702007021478, 8.822500033144076, 8.82229513038709, 8.822087090681842, 8.821875691181924, 8.82166069321415, 8.821441841155128, 8.821218861228157, 8.820991460214858, 8.82075932407545, 8.82052211647127, 8.820279477182591, 8.820031020414357, 8.819776332981913, 8.819514972368275, 8.81924646464385, 8.81897030223894, 8.818685941558622, 8.818392800428938, 8.818090255362485, 8.817777638630728, 8.81745423512944, 8.81711927902274, 8.816771950150205, 8.816411370180413, 8.81603659849319, 8.815646627771574, 8.815240379283177, 8.814816697829292, 8.814374346338584, 8.813912000080572, 8.813428240472543, 8.812921548451605, 8.81239029738178, 8.811832745463992, 8.811247027614591, 8.810631146775835, 8.809982964619278, 8.809300191600443, 8.808580376320391, 8.807820894146989, 8.807018935045468, 8.806171490564749, 8.80527533992252, 8.80432703512843, 8.803322885080863, 8.802258938569496, 8.801130966109419, 8.799934440531725, 8.798664516247435, 8.797316007098718, 8.79588336270578, 8.7943606432125, 8.792741492328595, 8.791019108560373, 8.78918621451635, 8.787235024168128, 8.785157207940792, 8.782943855500962, 8.780585436104444, 8.778071756359154, 8.775391915252904, 8.77253425628952, 8.769486316570978, 8.76623477265769, 8.762765383033933, 8.759062927000834, 8.75511113981542, 8.75089264389126, 8.746388875874151, 8.741580009405775, 8.73644487338902, 8.730960865571452, 8.725103861268282, 8.718848117053652, 8.712166169259435, 8.705028727134554, 8.697404560535533, 8.689260382041171, 8.680560723411414, 8.671267806343506, 8.66134140751769, 8.650738717971276, 8.639414196894121, 8.627319420001642, 8.61440292271387, 8.600610038451938, 8.58588273245716, 8.570159431643555, 8.553374851112828, 8.535459818091828, 8.516341094197175, 8.495941197089568, 8.474178222751862, 8.450965669809348, 8.426212267506914, 8.399821809165148, 8.371692993152983, 8.34171927363646, 8.309788723587694, 8.275783912761097, 8.239581803560288, 8.201053667922631, 8.160065028532356, 8.11647562782931, 8.07013942840018, 8.020904648412653, 7.968613835770458, 7.913103984618095, 7.854206697697844, 7.791748397848577, 7.72555059162679, 7.655430187617797, 7.5811998714838955, 7.502668539163773, 7.41964178889463, 7.331922471880052, 7.239311300482269, 7.141607511790964, 7.038609583331775, 6.930115996550192, 6.815926042568839, 6.695840663602204, 6.569663322354028, 6.437200890762913, 6.298264548628496, 6.152670681986748, 6.000241770635761, 5.840807253969167, 5.674204364272747, 5.500278916890904, 5.318886047174416, 5.1298908848714415, 4.933169157600563, 4.728607716222783, 4.516104976270904, 4.295571271060945, 4.066929113654528, 3.830113366415558, 3.585071318463257, 3.33176267281971, 3.070159446445532, 2.8002457876141893, 2.5220177161688992, 2.235482793114484, 1.9406597267086503, 1.6375779227283298, 1.3262769869006092, 1.0068061876135415, 0.6792238869745226, 0.34359694808175323, 1.260387875452382e-07]\n",
      "V= [ 0.          0.17764706  0.35529412  0.53294118  0.71058824  0.88823529\n",
      "  1.06588235  1.24352941  1.42117647  1.59882353  1.77647059  1.95411765\n",
      "  2.13176471  2.30941176  2.48705882  2.66470588  2.84235294  3.02\n",
      "  3.19764706  3.37529412  3.55294118  3.73058824  3.90823529  4.08588235\n",
      "  4.26352941  4.44117647  4.61882353  4.79647059  4.97411765  5.15176471\n",
      "  5.32941176  5.50705882  5.68470588  5.86235294  6.04        6.21764706\n",
      "  6.39529412  6.57294118  6.75058824  6.92823529  7.10588235  7.28352941\n",
      "  7.46117647  7.63882353  7.81647059  7.99411765  8.17176471  8.34941176\n",
      "  8.52705882  8.70470588  8.88235294  9.06        9.23764706  9.41529412\n",
      "  9.59294118  9.77058824  9.94823529 10.12588235 10.30352941 10.48117647\n",
      " 10.65882353 10.83647059 11.01411765 11.19176471 11.36941176 11.54705882\n",
      " 11.72470588 11.90235294 12.08       12.25764706 12.43529412 12.61294118\n",
      " 12.79058824 12.96823529 13.14588235 13.32352941 13.50117647 13.67882353\n",
      " 13.85647059 14.03411765 14.21176471 14.38941176 14.56705882 14.74470588\n",
      " 14.92235294 15.1        15.27764706 15.45529412 15.63294118 15.81058824\n",
      " 15.98823529 16.16588235 16.34352941 16.52117647 16.69882353 16.87647059\n",
      " 17.05411765 17.23176471 17.40941176 17.58705882 17.76470588 17.94235294\n",
      " 18.12       18.29764706 18.47529412 18.65294118 18.83058824 19.00823529\n",
      " 19.18588235 19.36352941 19.54117647 19.71882353 19.89647059 20.07411765\n",
      " 20.25176471 20.42941176 20.60705882 20.78470588 20.96235294 21.14\n",
      " 21.31764706 21.49529412 21.67294118 21.85058824 22.02823529 22.20588235\n",
      " 22.38352941 22.56117647 22.73882353 22.91647059 23.09411765 23.27176471\n",
      " 23.44941176 23.62705882 23.80470588 23.98235294 24.16       24.33764706\n",
      " 24.51529412 24.69294118 24.87058824 25.04823529 25.22588235 25.40352941\n",
      " 25.58117647 25.75882353 25.93647059 26.11411765 26.29176471 26.46941176\n",
      " 26.64705882 26.82470588 27.00235294 27.18       27.35764706 27.53529412\n",
      " 27.71294118 27.89058824 28.06823529 28.24588235 28.42352941 28.60117647\n",
      " 28.77882353 28.95647059 29.13411765 29.31176471 29.48941176 29.66705882\n",
      " 29.84470588 30.02235294 30.2        30.37764706 30.55529412 30.73294118\n",
      " 30.91058824 31.08823529 31.26588235 31.44352941 31.62117647 31.79882353\n",
      " 31.97647059 32.15411765 32.33176471 32.50941176 32.68705882 32.86470588\n",
      " 33.04235294 33.22       33.39764706 33.57529412 33.75294118 33.93058824\n",
      " 34.10823529 34.28588235 34.46352941 34.64117647 34.81882353 34.99647059\n",
      " 35.17411765 35.35176471 35.52941176 35.70705882 35.88470588 36.06235294\n",
      " 36.24       36.41764706 36.59529412 36.77294118 36.95058824 37.12823529\n",
      " 37.30588235 37.48352941 37.66117647 37.83882353 38.01647059 38.19411765\n",
      " 38.37176471 38.54941176 38.72705882 38.90470588 39.08235294 39.26\n",
      " 39.43764706 39.61529412 39.79294118 39.97058824 40.14823529 40.32588235\n",
      " 40.50352941 40.68117647 40.85882353 41.03647059 41.21411765 41.39176471\n",
      " 41.56941176 41.74705882 41.92470588 42.10235294 42.28       42.45764706\n",
      " 42.63529412 42.81294118 42.99058824 43.16823529 43.34588235 43.52352941\n",
      " 43.70117647 43.87882353 44.05647059 44.23411765 44.41176471 44.58941176\n",
      " 44.76705882 44.94470588 45.12235294 45.3       ]\n"
     ]
    }
   ],
   "source": [
    "Vx=np.linspace(0,Voc,num=256)\n",
    "for V in Vx:\n",
    "    x = fsolve(I_sc,Iph)\n",
    "    i.extend(x)\n",
    "    \n",
    "print(\"I=\",i)\n",
    "print(\"V=\",Vx)"
   ]
  },
  {
   "cell_type": "code",
   "execution_count": 19,
   "metadata": {},
   "outputs": [],
   "source": [
    "import matplotlib.pyplot as plt "
   ]
  },
  {
   "cell_type": "code",
   "execution_count": 20,
   "metadata": {},
   "outputs": [
    {
     "data": {
      "text/plain": [
       "Text(36.6040393, 8.201053667922631, 'Pmax')"
      ]
     },
     "execution_count": 20,
     "metadata": {},
     "output_type": "execute_result"
    },
    {
     "data": {
      "image/png": "[encoded data removed]",
      "text/plain": [
       "<Figure size 432x288 with 1 Axes>"
      ]
     },
     "metadata": {
      "needs_background": "light"
     },
     "output_type": "display_data"
    }
   ],
   "source": [
    "plt.plot(Vx, i)\n",
    "plt.title('3.IV Curve at STC')\n",
    "plt.xlabel('V in Volts')\n",
    "plt.ylabel('I in Amperes')\n",
    "plt.axis([0, 50, 0, 10])\n",
    "plt.annotate('Voc',xy=(45.3,0),xytext=(45.3,-0.5))\n",
    "plt.annotate('Isc',xy=(0,8.839999758809823),xytext=(-2,8.839999758809823))\n",
    "plt.annotate('Pmax',xy=(36.6040393,8.201053667922631))"
   ]
  },
  {
   "cell_type": "code",
   "execution_count": 21,
   "metadata": {},
   "outputs": [
    {
     "name": "stdout",
     "output_type": "stream",
     "text": [
      "P= [0.00000000e+00 1.57037139e+00 3.14068566e+00 4.71094280e+00\n",
      " 6.28114282e+00 7.85128570e+00 9.42137145e+00 1.09914001e+01\n",
      " 1.25613715e+01 1.41312859e+01 1.57011431e+01 1.72709431e+01\n",
      " 1.88406860e+01 2.04103718e+01 2.19800004e+01 2.35495719e+01\n",
      " 2.51190862e+01 2.66885433e+01 2.82579432e+01 2.98272860e+01\n",
      " 3.13965716e+01 3.29658000e+01 3.45349712e+01 3.61040852e+01\n",
      " 3.76731420e+01 3.92421416e+01 4.08110839e+01 4.23799690e+01\n",
      " 4.39487969e+01 4.55175675e+01 4.70862808e+01 4.86549368e+01\n",
      " 5.02235355e+01 5.17920769e+01 5.33605610e+01 5.49289876e+01\n",
      " 5.64973569e+01 5.80656688e+01 5.96339232e+01 6.12021202e+01\n",
      " 6.27702597e+01 6.43383417e+01 6.59063660e+01 6.74743328e+01\n",
      " 6.90422420e+01 7.06100934e+01 7.21778871e+01 7.37456230e+01\n",
      " 7.53133011e+01 7.68809212e+01 7.84484834e+01 8.00159875e+01\n",
      " 8.15834334e+01 8.31508212e+01 8.47181506e+01 8.62854216e+01\n",
      " 8.78526341e+01 8.94197879e+01 9.09868829e+01 9.25539191e+01\n",
      " 9.41208961e+01 9.56878140e+01 9.72546724e+01 9.88214713e+01\n",
      " 1.00388210e+02 1.01954889e+02 1.03521508e+02 1.05088066e+02\n",
      " 1.06654564e+02 1.08221000e+02 1.09787375e+02 1.11353688e+02\n",
      " 1.12919939e+02 1.14486128e+02 1.16052253e+02 1.17618315e+02\n",
      " 1.19184313e+02 1.20750246e+02 1.22316114e+02 1.23881916e+02\n",
      " 1.25447652e+02 1.27013320e+02 1.28578920e+02 1.30144452e+02\n",
      " 1.31709913e+02 1.33275303e+02 1.34840621e+02 1.36405865e+02\n",
      " 1.37971035e+02 1.39536129e+02 1.41101145e+02 1.42666082e+02\n",
      " 1.44230938e+02 1.45795711e+02 1.47360399e+02 1.48925000e+02\n",
      " 1.50489511e+02 1.52053929e+02 1.53618253e+02 1.55182479e+02\n",
      " 1.56746604e+02 1.58310623e+02 1.59874535e+02 1.61438333e+02\n",
      " 1.63002014e+02 1.64565574e+02 1.66129007e+02 1.67692307e+02\n",
      " 1.69255469e+02 1.70818486e+02 1.72381352e+02 1.73944058e+02\n",
      " 1.75506597e+02 1.77068960e+02 1.78631138e+02 1.80193121e+02\n",
      " 1.81754898e+02 1.83316457e+02 1.84877786e+02 1.86438870e+02\n",
      " 1.87999696e+02 1.89560248e+02 1.91120508e+02 1.92680459e+02\n",
      " 1.94240081e+02 1.95799351e+02 1.97358249e+02 1.98916748e+02\n",
      " 2.00474822e+02 2.02032443e+02 2.03589580e+02 2.05146200e+02\n",
      " 2.06702266e+02 2.08257741e+02 2.09812583e+02 2.11366747e+02\n",
      " 2.12920185e+02 2.14472845e+02 2.16024671e+02 2.17575605e+02\n",
      " 2.19125579e+02 2.20674526e+02 2.22222370e+02 2.23769031e+02\n",
      " 2.25314421e+02 2.26858447e+02 2.28401008e+02 2.29941996e+02\n",
      " 2.31481295e+02 2.33018778e+02 2.34554312e+02 2.36087750e+02\n",
      " 2.37618936e+02 2.39147702e+02 2.40673866e+02 2.42197235e+02\n",
      " 2.43717599e+02 2.45234732e+02 2.46748393e+02 2.48258320e+02\n",
      " 2.49764233e+02 2.51265832e+02 2.52762791e+02 2.54254764e+02\n",
      " 2.55741375e+02 2.57222223e+02 2.58696875e+02 2.60164866e+02\n",
      " 2.61625698e+02 2.63078835e+02 2.64523700e+02 2.65959676e+02\n",
      " 2.67386099e+02 2.68802255e+02 2.70207380e+02 2.71600654e+02\n",
      " 2.72981195e+02 2.74348060e+02 2.75700235e+02 2.77036635e+02\n",
      " 2.78356095e+02 2.79657369e+02 2.80939122e+02 2.82199923e+02\n",
      " 2.83438241e+02 2.84652438e+02 2.85840762e+02 2.87001340e+02\n",
      " 2.88132169e+02 2.89231112e+02 2.90295885e+02 2.91324052e+02\n",
      " 2.92313014e+02 2.93260004e+02 2.94162070e+02 2.95016075e+02\n",
      " 2.95818677e+02 2.96566329e+02 2.97255261e+02 2.97881473e+02\n",
      " 2.98440728e+02 2.98928534e+02 2.99340143e+02 2.99670534e+02\n",
      " 2.99914409e+02 3.00066182e+02 3.00119971e+02 3.00069591e+02\n",
      " 2.99908549e+02 2.99630036e+02 2.99226925e+02 2.98691771e+02\n",
      " 2.98016806e+02 2.97193941e+02 2.96214774e+02 2.95070588e+02\n",
      " 2.93752366e+02 2.92250796e+02 2.90556286e+02 2.88658982e+02\n",
      " 2.86548782e+02 2.84215362e+02 2.81648196e+02 2.78836589e+02\n",
      " 2.75769698e+02 2.72436573e+02 2.68826186e+02 2.64927470e+02\n",
      " 2.60729356e+02 2.56220812e+02 2.51390886e+02 2.46228745e+02\n",
      " 2.40723717e+02 2.34865332e+02 2.28643359e+02 2.22047849e+02\n",
      " 2.15069167e+02 2.07698029e+02 1.99925534e+02 1.91743191e+02\n",
      " 1.83142945e+02 1.74117197e+02 1.64658827e+02 1.54761202e+02\n",
      " 1.44418193e+02 1.33624175e+02 1.22374035e+02 1.10663170e+02\n",
      " 9.84874819e+01 8.58433707e+01 7.27277254e+01 5.91379107e+01\n",
      " 4.50717518e+01 3.05275178e+01 1.55039028e+01 5.70955708e-06]\n"
     ]
    }
   ],
   "source": [
    "p=[]\n",
    "p=np.multiply(Vx,i)\n",
    "print(\"P=\",p)"
   ]
  },
  {
   "cell_type": "code",
   "execution_count": 22,
   "metadata": {},
   "outputs": [
    {
     "data": {
      "text/plain": [
       "<function matplotlib.pyplot.show(*args, **kw)>"
      ]
     },
     "execution_count": 22,
     "metadata": {},
     "output_type": "execute_result"
    },
    {
     "data": {
      "image/png": "[encoded data removed]",
      "text/plain": [
       "<Figure size 432x288 with 1 Axes>"
      ]
     },
     "metadata": {
      "needs_background": "light"
     },
     "output_type": "display_data"
    }
   ],
   "source": [
    "plt.plot(Vx, p)\n",
    "plt.axis([0, 50, 0, 310])\n",
    "plt.title('3.Power Curve at STC')\n",
    "plt.xlabel('V in Volts')\n",
    "plt.ylabel('Power in Watts')\n",
    "plt.show"
   ]
  },
  {
   "cell_type": "code",
   "execution_count": 23,
   "metadata": {},
   "outputs": [
    {
     "name": "stdout",
     "output_type": "stream",
     "text": [
      "Voc= 45.300000000011885\n",
      "Isc= 8.839999758809823\n",
      "Pmax= 300.1199710523156\n",
      "Rs= 0.21721509749730586\n",
      "Rsh= 1104.8948729303456\n",
      "Iph= 8.841737886118327\n",
      "Isat= 2.1922584839244864e-07\n"
     ]
    }
   ],
   "source": [
    "Voc=np.amax(Vx)\n",
    "Isc=np.amax(i)\n",
    "Pmax=np.amax(p)\n",
    "print(\"Voc=\",Voc)\n",
    "print(\"Isc=\",Isc)\n",
    "print(\"Pmax=\",Pmax)\n",
    "print(\"Rs=\",Rs)\n",
    "print(\"Rsh=\",Rsh)\n",
    "print(\"Iph=\",Iph)\n",
    "print(\"Isat=\",Isat)"
   ]
  },
  {
   "cell_type": "code",
   "execution_count": 24,
   "metadata": {},
   "outputs": [
    {
     "name": "stdout",
     "output_type": "stream",
     "text": [
      "Fill Factor= 0.7494530661370086\n"
     ]
    }
   ],
   "source": [
    "FF=(Pmax/(Voc*Isc))\n",
    "print(\"Fill Factor=\",FF)"
   ]
  },
  {
   "cell_type": "markdown",
   "metadata": {},
   "source": [
    "# Q4"
   ]
  },
  {
   "cell_type": "code",
   "execution_count": 25,
   "metadata": {},
   "outputs": [
    {
     "name": "stdout",
     "output_type": "stream",
     "text": [
      "Rs1= 0.4344301949946117\n"
     ]
    }
   ],
   "source": [
    "Rs=2*Rs\n",
    "print(\"Rs1=\",Rs)"
   ]
  },
  {
   "cell_type": "code",
   "execution_count": 26,
   "metadata": {},
   "outputs": [
    {
     "name": "stdout",
     "output_type": "stream",
     "text": [
      "Voc= 45.300000000011885\n"
     ]
    }
   ],
   "source": [
    "x=fsolve(V_oc,72*0.6)\n",
    "Voc1=x[0]\n",
    "print(\"Voc=\",Voc1)"
   ]
  },
  {
   "cell_type": "code",
   "execution_count": 27,
   "metadata": {},
   "outputs": [
    {
     "name": "stdout",
     "output_type": "stream",
     "text": [
      "I= [8.83826204956851, 8.838101262233726, 8.837940470021087, 8.83777967258406, 8.837618869551495, 8.837458060525876, 8.837297245081446, 8.837136422762201, 8.836975593079742, 8.836814755510975, 8.836653909495642, 8.836493054433683, 8.836332189682413, 8.836171314553484, 8.83601042830965, 8.835849530161292, 8.835688619262688, 8.835527694708045, 8.83536675552721, 8.835205800681114, 8.835044829056875, 8.834883839462544, 8.834722830621496, 8.834561801166416, 8.834400749632847, 8.8342396744523, 8.834078573944856, 8.833917446311256, 8.833756289624413, 8.833595101820343, 8.83343388068843, 8.833272623861019, 8.833111328802248, 8.83294999279611, 8.832788612933646, 8.832627186099245, 8.832465708955958, 8.832304177929778, 8.8321425891928, 8.831980938645177, 8.831819221895815, 8.831657434241663, 8.831495570645577, 8.831333625712562, 8.83117159366437, 8.83100946831226, 8.83084724302785, 8.830684910711875, 8.830522463760742, 8.830359894030703, 8.830197192799488, 8.8300343507252, 8.82987135780231, 8.829708203314501, 8.829544875784196, 8.829381362918465, 8.829217651551115, 8.82905372758066, 8.828889575903881, 8.828725180344668, 8.828560523577815, 8.828395587047401, 8.828230350879362, 8.828064793787872, 8.827898892975066, 8.82773262402364, 8.827565960781826, 8.827398875240211, 8.827231337399786, 8.82706331513064, 8.82689477402063, 8.826725677213279, 8.826555985234192, 8.826385655805133, 8.826214643644912, 8.826042900256128, 8.825870373696782, 8.825697008335675, 8.825522744590444, 8.825347518647014, 8.825171262159133, 8.824993901926577, 8.824815359550554, 8.824635551064615, 8.824454386539418, 8.824271769659441, 8.824087597269665, 8.82390175889012, 8.823714136196006, 8.823524602460944, 8.823333021960773, 8.823139249335066, 8.822943128903429, 8.822744493933314, 8.822543165856, 8.822338953427016, 8.822131651827121, 8.821921041699625, 8.821706888119584, 8.82148893949004, 8.82126692636018, 8.821040560159913, 8.820809531844985, 8.820573510446334, 8.82033214151696, 8.820085045469114, 8.81983181579409, 8.819572017156446, 8.819305183353766, 8.819030815132663, 8.818748377850888, 8.818457298974849, 8.818156965401055, 8.817846720589214, 8.817525861493916, 8.817193635280889, 8.816849235812928, 8.81649179988955, 8.816120403223369, 8.815734056135069, 8.815331698947627, 8.814912197059147, 8.814474335672353, 8.814016814157297, 8.813538240022366, 8.813037122467021, 8.81251186548789, 8.811960760509013, 8.81138197850224, 8.810773561566542, 8.81013341392826, 8.809459292324842, 8.808748795731455, 8.807999354387517, 8.80720821807777, 8.806372443619864, 8.805488881507694, 8.804554161656998, 8.803564678196794, 8.802516573247274, 8.801405719621801, 8.800227702387525, 8.798977799216084, 8.797650959452715, 8.796241781829064, 8.794744490741904, 8.793152911017085, 8.791460441075234, 8.789660024413136, 8.787744119312386, 8.785704666684943, 8.783533055963597, 8.78122008894436, 8.778755941487303, 8.77613012298276, 8.77333143349102, 8.770347918465918, 8.767166820976305, 8.763774531344335, 8.760156534126189, 8.756297352369417, 8.752180489091847, 8.747788365940227, 8.743102259002892, 8.73810223176982, 8.732767065256237, 8.727074185332478, 8.72099958733363, 8.714517758058097, 8.707601595304807, 8.700222325144896, 8.692349417175667, 8.683950498062744, 8.674991263740944, 8.665435390715622, 8.65524444698425, 8.644377803182685, 8.632792544651787, 8.620443385217298, 8.607282583578806, 8.59325986331037, 8.57832233758649, 8.562414439858548, 8.545477861818707, 8.527451500096747, 8.508271413238107, 8.487870790604582, 8.466179934919397, 8.44312626024072, 8.418634307187927, 8.392625777257694, 8.365019588047318, 8.335731951145105, 8.304676474347517, 8.271764289715147, 8.236904208780992, 8.200002905971646, 8.160965130994112, 8.119693950577298, 8.0760910195409, 8.030056880698952, 7.981491292598148, 7.930293583550896, 7.876363029862129, 7.819599255580772, 7.759902650547679, 7.697174802978821, 7.631318942336259, 7.562240387809835, 7.489846997394931, 7.414049612297732, 7.334762491264847, 7.251903729415023, 7.165395656258309, 7.075165207822608, 6.981144268165346, 6.883269976020683, 6.781484992907562, 6.675737729683357, 6.5659825292525555, 6.452179803906418, 6.334296126555322, 6.212304275895666, 6.086183236306102, 5.9559181539732515, 5.821500251383211, 5.682926702876649, 5.540200474429214, 5.393330131190598, 5.242329616584267, 5.087218006940609, 4.928019245712224, 4.7647618613079725, 4.5974786724918815, 4.42620648513471, 4.250985783890911, 4.071860422113999, 3.888877313030761, 3.7020861248797075, 3.5115389823938186, 3.3172901766754985, 3.119395885191067, 2.917913903295878, 2.712903388406239, 2.504424617658095, 2.2925387596393603, 2.0773076605546814, 1.858793644979106, 1.637059331179945, 1.4121674608344714, 1.1841807428423818, 0.9531617108270759, 0.7191725938339314, 0.48227519966799154, 0.2425308102644934, 8.845029606656475e-08]\n",
      "V= [ 0.          0.17764706  0.35529412  0.53294118  0.71058824  0.88823529\n",
      "  1.06588235  1.24352941  1.42117647  1.59882353  1.77647059  1.95411765\n",
      "  2.13176471  2.30941176  2.48705882  2.66470588  2.84235294  3.02\n",
      "  3.19764706  3.37529412  3.55294118  3.73058824  3.90823529  4.08588235\n",
      "  4.26352941  4.44117647  4.61882353  4.79647059  4.97411765  5.15176471\n",
      "  5.32941176  5.50705882  5.68470588  5.86235294  6.04        6.21764706\n",
      "  6.39529412  6.57294118  6.75058824  6.92823529  7.10588235  7.28352941\n",
      "  7.46117647  7.63882353  7.81647059  7.99411765  8.17176471  8.34941176\n",
      "  8.52705882  8.70470588  8.88235294  9.06        9.23764706  9.41529412\n",
      "  9.59294118  9.77058824  9.94823529 10.12588235 10.30352941 10.48117647\n",
      " 10.65882353 10.83647059 11.01411765 11.19176471 11.36941176 11.54705882\n",
      " 11.72470588 11.90235294 12.08       12.25764706 12.43529412 12.61294118\n",
      " 12.79058824 12.96823529 13.14588235 13.32352941 13.50117647 13.67882353\n",
      " 13.85647059 14.03411765 14.21176471 14.38941176 14.56705882 14.74470588\n",
      " 14.92235294 15.1        15.27764706 15.45529412 15.63294118 15.81058824\n",
      " 15.98823529 16.16588235 16.34352941 16.52117647 16.69882353 16.87647059\n",
      " 17.05411765 17.23176471 17.40941176 17.58705882 17.76470588 17.94235294\n",
      " 18.12       18.29764706 18.47529412 18.65294118 18.83058824 19.00823529\n",
      " 19.18588235 19.36352941 19.54117647 19.71882353 19.89647059 20.07411765\n",
      " 20.25176471 20.42941176 20.60705882 20.78470588 20.96235294 21.14\n",
      " 21.31764706 21.49529412 21.67294118 21.85058824 22.02823529 22.20588235\n",
      " 22.38352941 22.56117647 22.73882353 22.91647059 23.09411765 23.27176471\n",
      " 23.44941176 23.62705882 23.80470588 23.98235294 24.16       24.33764706\n",
      " 24.51529412 24.69294118 24.87058824 25.04823529 25.22588235 25.40352941\n",
      " 25.58117647 25.75882353 25.93647059 26.11411765 26.29176471 26.46941176\n",
      " 26.64705882 26.82470588 27.00235294 27.18       27.35764706 27.53529412\n",
      " 27.71294118 27.89058824 28.06823529 28.24588235 28.42352941 28.60117647\n",
      " 28.77882353 28.95647059 29.13411765 29.31176471 29.48941176 29.66705882\n",
      " 29.84470588 30.02235294 30.2        30.37764706 30.55529412 30.73294118\n",
      " 30.91058824 31.08823529 31.26588235 31.44352941 31.62117647 31.79882353\n",
      " 31.97647059 32.15411765 32.33176471 32.50941176 32.68705882 32.86470588\n",
      " 33.04235294 33.22       33.39764706 33.57529412 33.75294118 33.93058824\n",
      " 34.10823529 34.28588235 34.46352941 34.64117647 34.81882353 34.99647059\n",
      " 35.17411765 35.35176471 35.52941176 35.70705882 35.88470588 36.06235294\n",
      " 36.24       36.41764706 36.59529412 36.77294118 36.95058824 37.12823529\n",
      " 37.30588235 37.48352941 37.66117647 37.83882353 38.01647059 38.19411765\n",
      " 38.37176471 38.54941176 38.72705882 38.90470588 39.08235294 39.26\n",
      " 39.43764706 39.61529412 39.79294118 39.97058824 40.14823529 40.32588235\n",
      " 40.50352941 40.68117647 40.85882353 41.03647059 41.21411765 41.39176471\n",
      " 41.56941176 41.74705882 41.92470588 42.10235294 42.28       42.45764706\n",
      " 42.63529412 42.81294118 42.99058824 43.16823529 43.34588235 43.52352941\n",
      " 43.70117647 43.87882353 44.05647059 44.23411765 44.41176471 44.58941176\n",
      " 44.76705882 44.94470588 45.12235294 45.3       ]\n"
     ]
    }
   ],
   "source": [
    "i1=[]\n",
    "Vx=np.linspace(0,Voc1,num=256)\n",
    "for V in Vx:\n",
    "    x = fsolve(I_sc,Iph)\n",
    "    i1.extend(x)\n",
    "    \n",
    "print(\"I=\",i1)\n",
    "print(\"V=\",Vx)"
   ]
  },
  {
   "cell_type": "code",
   "execution_count": 28,
   "metadata": {},
   "outputs": [
    {
     "data": {
      "image/png": "[encoded data removed]",
      "text/plain": [
       "<Figure size 432x288 with 1 Axes>"
      ]
     },
     "metadata": {
      "needs_background": "light"
     },
     "output_type": "display_data"
    }
   ],
   "source": [
    "markers_on = [206]\n",
    "plt.plot(Vx, i1,'-',markevery=206)\n",
    "plt.title('4.IV Curve at (2*Rs)')\n",
    "plt.xlabel('V in Volts')\n",
    "plt.ylabel('I in Amperes')\n",
    "plt.axis([0, 50, 0, 10])\n",
    "plt.annotate('Voc',xy=(45.3,0),xytext=(45.3,-0.5))\n",
    "plt.annotate('Isc',xy=(0,8.839999758809823),xytext=(-2,8.839999758809823))\n",
    "plt.annotate('Pmax',xy=(36.6040393,8.201053667922631))\n",
    "plt.show()"
   ]
  },
  {
   "cell_type": "code",
   "execution_count": 29,
   "metadata": {},
   "outputs": [
    {
     "name": "stdout",
     "output_type": "stream",
     "text": [
      "P= [0.00000000e+00 1.57006269e+00 3.14006826e+00 4.71001670e+00\n",
      " 6.27990800e+00 7.84974216e+00 9.41951918e+00 1.09892391e+01\n",
      " 1.25589018e+01 1.41285074e+01 1.56980558e+01 1.72675470e+01\n",
      " 1.88369811e+01 2.04063580e+01 2.19756777e+01 2.35449402e+01\n",
      " 2.51141455e+01 2.66832936e+01 2.82523845e+01 2.98214182e+01\n",
      " 3.13903946e+01 3.29593137e+01 3.45281756e+01 3.60969802e+01\n",
      " 3.76657274e+01 3.92344174e+01 4.08030500e+01 4.23716252e+01\n",
      " 4.39401431e+01 4.55086035e+01 4.70770064e+01 4.86453519e+01\n",
      " 5.02136399e+01 5.17818704e+01 5.33500432e+01 5.49181584e+01\n",
      " 5.64862160e+01 5.80542158e+01 5.96221579e+01 6.11900421e+01\n",
      " 6.27578684e+01 6.43256367e+01 6.58933470e+01 6.74609991e+01\n",
      " 6.90285930e+01 7.05961286e+01 7.21636058e+01 7.37310245e+01\n",
      " 7.52983845e+01 7.68656857e+01 7.84329280e+01 8.00001112e+01\n",
      " 8.15672352e+01 8.31342997e+01 8.47013046e+01 8.62682497e+01\n",
      " 8.78351347e+01 8.94019593e+01 9.09687234e+01 9.25354266e+01\n",
      " 9.41020686e+01 9.56686491e+01 9.72351677e+01 9.88016240e+01\n",
      " 1.00368018e+02 1.01934348e+02 1.03500615e+02 1.05066817e+02\n",
      " 1.06632955e+02 1.08199027e+02 1.09765033e+02 1.11330972e+02\n",
      " 1.12896843e+02 1.14462646e+02 1.16028379e+02 1.17594042e+02\n",
      " 1.19159633e+02 1.20725152e+02 1.22290596e+02 1.23855965e+02\n",
      " 1.25421257e+02 1.26986471e+02 1.28551604e+02 1.30116656e+02\n",
      " 1.31681623e+02 1.33246504e+02 1.34811296e+02 1.36375997e+02\n",
      " 1.37940604e+02 1.39505114e+02 1.41069524e+02 1.42633831e+02\n",
      " 1.44198031e+02 1.45762119e+02 1.47326091e+02 1.48889944e+02\n",
      " 1.50453671e+02 1.52017268e+02 1.53580728e+02 1.55144045e+02\n",
      " 1.56707212e+02 1.58270223e+02 1.59833069e+02 1.61395741e+02\n",
      " 1.62958231e+02 1.64520528e+02 1.66082621e+02 1.67644500e+02\n",
      " 1.69206152e+02 1.70767563e+02 1.72328718e+02 1.73889603e+02\n",
      " 1.75450201e+02 1.77010492e+02 1.78570459e+02 1.80130079e+02\n",
      " 1.81689331e+02 1.83248189e+02 1.84806627e+02 1.86364618e+02\n",
      " 1.87922130e+02 1.89479130e+02 1.91035584e+02 1.92591452e+02\n",
      " 1.94146694e+02 1.95701266e+02 1.97255119e+02 1.98808202e+02\n",
      " 2.00360460e+02 2.01911833e+02 2.03462258e+02 2.05011664e+02\n",
      " 2.06559978e+02 2.08107119e+02 2.09653001e+02 2.11197532e+02\n",
      " 2.12740611e+02 2.14282132e+02 2.15821977e+02 2.17360024e+02\n",
      " 2.18896138e+02 2.20430174e+02 2.21961979e+02 2.23491385e+02\n",
      " 2.25018213e+02 2.26542271e+02 2.28063352e+02 2.29581232e+02\n",
      " 2.31095673e+02 2.32606418e+02 2.34113189e+02 2.35615691e+02\n",
      " 2.37113604e+02 2.38606586e+02 2.40094270e+02 2.41576261e+02\n",
      " 2.43052136e+02 2.44521440e+02 2.45983686e+02 2.47438351e+02\n",
      " 2.48884875e+02 2.50322659e+02 2.51751058e+02 2.53169383e+02\n",
      " 2.54576898e+02 2.55972813e+02 2.57356284e+02 2.58726408e+02\n",
      " 2.60082219e+02 2.61422688e+02 2.62746714e+02 2.64053123e+02\n",
      " 2.65340662e+02 2.66607996e+02 2.67853705e+02 2.69076276e+02\n",
      " 2.70274099e+02 2.71445466e+02 2.72588562e+02 2.73701460e+02\n",
      " 2.74782121e+02 2.75828386e+02 2.76837969e+02 2.77808459e+02\n",
      " 2.78737309e+02 2.79621838e+02 2.80459222e+02 2.81246497e+02\n",
      " 2.81980551e+02 2.82658123e+02 2.83275804e+02 2.83830035e+02\n",
      " 2.84317107e+02 2.84733161e+02 2.85074192e+02 2.85336052e+02\n",
      " 2.85514454e+02 2.85604976e+02 2.85603070e+02 2.85504069e+02\n",
      " 2.85303197e+02 2.84995579e+02 2.84576253e+02 2.84040183e+02\n",
      " 2.83382277e+02 2.82597396e+02 2.81680376e+02 2.80626043e+02\n",
      " 2.79429231e+02 2.78084802e+02 2.76587663e+02 2.74932786e+02\n",
      " 2.73115226e+02 2.71130142e+02 2.68972810e+02 2.66638645e+02\n",
      " 2.64123216e+02 2.61422257e+02 2.58531688e+02 2.55447619e+02\n",
      " 2.52166368e+02 2.48684466e+02 2.44998663e+02 2.41105939e+02\n",
      " 2.37003501e+02 2.32688789e+02 2.28159478e+02 2.23413473e+02\n",
      " 2.18448906e+02 2.13264136e+02 2.07857743e+02 2.02228517e+02\n",
      " 1.96375456e+02 1.90297755e+02 1.83994800e+02 1.77466154e+02\n",
      " 1.70711551e+02 1.63730885e+02 1.56524201e+02 1.49091683e+02\n",
      " 1.41433642e+02 1.33550513e+02 1.25442835e+02 1.17111252e+02\n",
      " 1.08556495e+02 9.97793781e+01 9.07807887e+01 8.15616783e+01\n",
      " 7.21230563e+01 6.24659816e+01 5.25915565e+01 4.25009200e+01\n",
      " 3.21952418e+01 2.16757170e+01 1.09435608e+01 4.00679841e-06]\n"
     ]
    }
   ],
   "source": [
    "p1=[]\n",
    "p1=np.multiply(Vx,i1)\n",
    "print(\"P=\",p1)\n"
   ]
  },
  {
   "cell_type": "code",
   "execution_count": 30,
   "metadata": {},
   "outputs": [
    {
     "name": "stdout",
     "output_type": "stream",
     "text": [
      "Voc= 45.300000000011885\n",
      "Isc= 8.83826204956851\n",
      "Pmax= 285.6049761785241\n",
      "Rs= 0.4344301949946117\n",
      "Rsh= 1104.8948729303456\n",
      "Iph= 8.841737886118327\n",
      "Isat= 2.1922584839244864e-07\n",
      "Fill Factor= 0.7133467615741372\n",
      "(array([197], dtype=int64),)\n",
      "point= [34.99647059]\n",
      "point1= 7.697174802978821\n"
     ]
    }
   ],
   "source": [
    "Voc1=np.amax(Vx)\n",
    "Isc1=np.amax(i1)\n",
    "Pmax1=np.amax(p1)\n",
    "print(\"Voc=\",Voc1)\n",
    "print(\"Isc=\",Isc1)\n",
    "print(\"Pmax=\",Pmax1)\n",
    "print(\"Rs=\",Rs)\n",
    "print(\"Rsh=\",Rsh)\n",
    "print(\"Iph=\",Iph)\n",
    "print(\"Isat=\",Isat)\n",
    "FF1=(Pmax1/(Voc1*Isc1))\n",
    "print(\"Fill Factor=\",FF1)\n",
    "index=np.where(p1==np.amax(p1))\n",
    "print(index)\n",
    "print(\"point=\",Vx[index])\n",
    "print(\"point1=\",i1[206])"
   ]
  },
  {
   "cell_type": "markdown",
   "metadata": {},
   "source": [
    "# Q4 % degradation"
   ]
  },
  {
   "cell_type": "code",
   "execution_count": 31,
   "metadata": {},
   "outputs": [
    {
     "name": "stdout",
     "output_type": "stream",
     "text": [
      "deltaPmax= 4.836397532259283 %\n"
     ]
    }
   ],
   "source": [
    "deltaPmax=((Pmax-Pmax1)/Pmax)\n",
    "print (\"deltaPmax=\",deltaPmax*100,\"%\")"
   ]
  },
  {
   "cell_type": "code",
   "execution_count": 32,
   "metadata": {},
   "outputs": [
    {
     "name": "stdout",
     "output_type": "stream",
     "text": [
      "deltaFF= 4.817687216756371 %\n"
     ]
    }
   ],
   "source": [
    "deltaFF=((FF-FF1)/FF)\n",
    "print (\"deltaFF=\",deltaFF*100,\"%\")"
   ]
  },
  {
   "cell_type": "markdown",
   "metadata": {},
   "source": [
    "# Q5"
   ]
  },
  {
   "cell_type": "code",
   "execution_count": 33,
   "metadata": {},
   "outputs": [
    {
     "name": "stdout",
     "output_type": "stream",
     "text": [
      "Rsh2= [  50.          167.21054144  284.42108287  401.63162431  518.84216575\n",
      "  636.05270718  753.26324862  870.47379006  987.68433149 1104.89487293]\n"
     ]
    }
   ],
   "source": [
    "Rs=0.21721509749730586 # Q3 as baseline\n",
    "Rsh2=np.linspace(50,Rsh,num=10)\n",
    "print(\"Rsh2=\",Rsh2)\n"
   ]
  },
  {
   "cell_type": "code",
   "execution_count": 34,
   "metadata": {},
   "outputs": [
    {
     "name": "stdout",
     "output_type": "stream",
     "text": [
      "voc= [array([45.03404425]), array([45.23163007]), array([45.26502944]), array([45.27882288]), array([45.28635671]), array([45.29110392]), array([45.29436928]), array([45.29675297]), array([45.29856959]), array([45.3])]\n"
     ]
    }
   ],
   "source": [
    "voc=[]\n",
    "for Rsh in Rsh2:\n",
    "    x=fsolve(V_oc,72*0.6)\n",
    "    voc.append(x)\n",
    "\n",
    "print(\"voc=\",voc)\n",
    "    "
   ]
  },
  {
   "cell_type": "code",
   "execution_count": 35,
   "metadata": {},
   "outputs": [
    {
     "name": "stdout",
     "output_type": "stream",
     "text": [
      "256\n",
      "256\n",
      "256\n",
      "256\n",
      "256\n",
      "256\n",
      "256\n",
      "256\n",
      "256\n",
      "256\n",
      "Isc_2= [8.803492616151132, 8.830266674466701, 8.834990278615535, 8.83695833816382, 8.83803756944408, 8.838719179280146, 8.839188728255229, 8.839531857893771, 8.83979356563181, 8.839999758809823]\n",
      "Pmax_2= [274.7905873572535, 293.3429091464801, 296.6326349495676, 298.0028773489614, 298.75418119045213, 299.22864523658063, 299.5554785733588, 299.7943081642995, 299.9764605598478, 300.1199710523156]\n",
      "FF_2= [0.6890466824296925, 0.7333369587844535, 0.7411645718291124, 0.7444224258862354, 0.7462080790554873, 0.7473355271658151, 0.7481120637379748, 0.748679455434624, 0.7491121679124766, 0.7494530661370086]\n"
     ]
    }
   ],
   "source": [
    "i2=[]\n",
    "p2=[]\n",
    "Isc_2=[]\n",
    "Voc_2=[]\n",
    "Pmax_2=[]\n",
    "FF_2=[]\n",
    "Vx=np.linspace(0,Voc,num=256)\n",
    "for Rsh in Rsh2:\n",
    "    for V in Vx:\n",
    "        x = fsolve(I_sc,Iph)\n",
    "        i2.extend(x)\n",
    "    y=0\n",
    "    Voc2=np.amax(Vx)\n",
    "    #print(\"Voc=\",Voc2)\n",
    "    Isc2=np.amax(i2)\n",
    "    #print(\"Isc=\",Isc2)\n",
    "    p2=np.multiply(Vx,i2)\n",
    "    y=p2.size\n",
    "    print(y)\n",
    "    Pmax2=np.amax(p2)\n",
    "    #print(\"Pmax=\",Pmax2)\n",
    "    FF2=(Pmax2/(Voc2*Isc2))\n",
    "    #print(\"FF=\",FF2)\n",
    "    Isc_2.append(Isc2)\n",
    "    Voc_2.append(Voc2)\n",
    "    Pmax_2.append(Pmax2)\n",
    "    FF_2.append(FF2)\n",
    "    i2.clear()\n",
    "print(\"Isc_2=\",Isc_2)\n",
    "print(\"Pmax_2=\",Pmax_2)\n",
    "print(\"FF_2=\",FF_2)"
   ]
  },
  {
   "cell_type": "code",
   "execution_count": 36,
   "metadata": {},
   "outputs": [
    {
     "name": "stdout",
     "output_type": "stream",
     "text": [
      "[0.5870987861035837, 0.150926988634585, 0.07719771143410135, 0.046748601656510166, 0.030117635391646375, 0.01963814780375637, 0.012429841174052674, 0.007167840189470175, 0.0031576273339422567, 0.0]\n",
      "[0.41297673817590286, 0.11010276706650056, 0.05666832953581118, 0.034405211866345944, 0.022196712887778493, 0.014486194169868339, 0.009174554035319077, 0.005292996932327174, 0.0023325020773573724, 0.0]\n",
      "[8.439752811600384, 2.258117606126958, 1.1619806874298537, 0.705415802864087, 0.45508129868017655, 0.2969898379670217, 0.18808894222449646, 0.10851090211498433, 0.0478177083532928, 0.0]\n",
      "[8.060062255622706, 2.1503824696620666, 1.1059390750935831, 0.6712415330693299, 0.43298069327374017, 0.2825445737527183, 0.17893080429250463, 0.10322336879240283, 0.04548626724407348, 0.0]\n"
     ]
    }
   ],
   "source": [
    "Voc_delta=[]\n",
    "Isc_delta=[]\n",
    "Pmax_delta=[]\n",
    "FF_delta=[]\n",
    "for i in range(10):\n",
    "    Vocdelta=((Voc-voc[i])/Voc)*100\n",
    "    Iscdelta=((Isc-Isc_2[i])/Isc)*100\n",
    "    Pmaxdelta=((Pmax-Pmax_2[i])/Pmax)*100\n",
    "    FFdelta=((FF-FF_2[i])/FF)*100\n",
    "    Voc_delta.extend(Vocdelta)\n",
    "    Isc_delta.append(Iscdelta)\n",
    "    Pmax_delta.append(Pmaxdelta)\n",
    "    FF_delta.append(FFdelta)\n",
    "\n",
    "print(Voc_delta)\n",
    "print(Isc_delta)\n",
    "print(Pmax_delta)\n",
    "print(FF_delta)"
   ]
  },
  {
   "cell_type": "code",
   "execution_count": 37,
   "metadata": {},
   "outputs": [
    {
     "data": {
      "text/plain": [
       "Text(0.5, 0, 'R in ohms')"
      ]
     },
     "execution_count": 37,
     "metadata": {},
     "output_type": "execute_result"
    },
    {
     "data": {
      "image/png": "[encoded data removed]",
      "text/plain": [
       "<Figure size 432x288 with 1 Axes>"
      ]
     },
     "metadata": {
      "needs_background": "light"
     },
     "output_type": "display_data"
    }
   ],
   "source": [
    "plt.plot(Rsh2, Pmax_delta)\n",
    "plt.axis([0, 1200, 0, 10])\n",
    "plt.title('5.Pmax_delta % Vs Rsh')\n",
    "plt.ylabel('Pmax_delta % in Watts')\n",
    "plt.xlabel('R in ohms')"
   ]
  },
  {
   "cell_type": "code",
   "execution_count": 38,
   "metadata": {},
   "outputs": [
    {
     "data": {
      "text/plain": [
       "Text(0.5, 0, 'R in ohms')"
      ]
     },
     "execution_count": 38,
     "metadata": {},
     "output_type": "execute_result"
    },
    {
     "data": {
      "image/png": "[encoded data removed]",
      "text/plain": [
       "<Figure size 432x288 with 1 Axes>"
      ]
     },
     "metadata": {
      "needs_background": "light"
     },
     "output_type": "display_data"
    }
   ],
   "source": [
    "plt.plot(Rsh2, FF_delta)\n",
    "plt.axis([0, 1200, 0, 10])\n",
    "plt.title('5.FF_delta % Vs Rsh')\n",
    "plt.ylabel('FF_delta %')\n",
    "plt.xlabel('R in ohms')"
   ]
  },
  {
   "cell_type": "code",
   "execution_count": 39,
   "metadata": {},
   "outputs": [
    {
     "data": {
      "text/plain": [
       "Text(0.5, 0, 'R in ohms')"
      ]
     },
     "execution_count": 39,
     "metadata": {},
     "output_type": "execute_result"
    },
    {
     "data": {
      "image/png": "[encoded data removed]",
      "text/plain": [
       "<Figure size 432x288 with 1 Axes>"
      ]
     },
     "metadata": {
      "needs_background": "light"
     },
     "output_type": "display_data"
    }
   ],
   "source": [
    "plt.plot(Rsh2, Voc_delta)\n",
    "plt.axis([0, 1200, 0, 0.8])\n",
    "plt.title('5.Voc_delta % Vs Rsh')\n",
    "plt.ylabel('Voc_delta % in Volts')\n",
    "plt.xlabel('R in ohms')"
   ]
  },
  {
   "cell_type": "code",
   "execution_count": 40,
   "metadata": {},
   "outputs": [
    {
     "data": {
      "text/plain": [
       "Text(0.5, 0, 'R in ohms')"
      ]
     },
     "execution_count": 40,
     "metadata": {},
     "output_type": "execute_result"
    },
    {
     "data": {
      "image/png": "[encoded data removed]",
      "text/plain": [
       "<Figure size 432x288 with 1 Axes>"
      ]
     },
     "metadata": {
      "needs_background": "light"
     },
     "output_type": "display_data"
    }
   ],
   "source": [
    "plt.plot(Rsh2, Isc_delta)\n",
    "plt.axis([0, 1200, 0, 0.5])\n",
    "plt.title('5.Isc_delta % Vs Rsh')\n",
    "plt.ylabel('Isc_delta % in Amps')\n",
    "plt.xlabel('R in ohms')"
   ]
  },
  {
   "cell_type": "markdown",
   "metadata": {},
   "source": [
    "# Q5.2"
   ]
  },
  {
   "cell_type": "code",
   "execution_count": 41,
   "metadata": {},
   "outputs": [
    {
     "name": "stdout",
     "output_type": "stream",
     "text": [
      "11048.948729303456\n"
     ]
    }
   ],
   "source": [
    "Rsh3= 10*Rsh\n",
    "print(Rsh3)"
   ]
  },
  {
   "cell_type": "code",
   "execution_count": 42,
   "metadata": {},
   "outputs": [
    {
     "name": "stdout",
     "output_type": "stream",
     "text": [
      "Voc= 45.310825350231035\n"
     ]
    }
   ],
   "source": [
    "Rsh = Rsh3\n",
    "x=fsolve(V_oc,72*0.6)\n",
    "Voc=x[0]\n",
    "print(\"Voc=\",Voc)"
   ]
  },
  {
   "cell_type": "code",
   "execution_count": 43,
   "metadata": {},
   "outputs": [
    {
     "name": "stderr",
     "output_type": "stream",
     "text": [
      "C:\\Users\\Makrand\\Anaconda3\\lib\\site-packages\\scipy\\optimize\\minpack.py:162: RuntimeWarning: The iteration is not making good progress, as measured by the \n",
      "  improvement from the last ten iterations.\n",
      "  warnings.warn(msg, RuntimeWarning)\n"
     ]
    }
   ],
   "source": [
    "Rs=0.21721509749730586\n",
    "i3=[]\n",
    "Vx=np.linspace(0,Voc,num=256)\n",
    "for V in Vx:\n",
    "    x = fsolve(I_sc,Iph)\n",
    "    i3.extend(x)"
   ]
  },
  {
   "cell_type": "code",
   "execution_count": 44,
   "metadata": {},
   "outputs": [
    {
     "name": "stdout",
     "output_type": "stream",
     "text": [
      "Pmax3= 301.2088124864898\n"
     ]
    }
   ],
   "source": [
    "p3=[]\n",
    "p3=np.multiply(Vx,i3)\n",
    "Pmax3=np.amax(p3)\n",
    "print(\"Pmax3=\",Pmax3)\n"
   ]
  },
  {
   "cell_type": "code",
   "execution_count": 45,
   "metadata": {},
   "outputs": [],
   "source": [
    "P_delta=[]\n",
    "for i in range(256):\n",
    "    Pdelta=(p3[i]-p[i])\n",
    "    P_delta.append(Pdelta)\n",
    "    "
   ]
  },
  {
   "cell_type": "code",
   "execution_count": 46,
   "metadata": {},
   "outputs": [
    {
     "data": {
      "image/png": "[encoded data removed]",
      "text/plain": [
       "<Figure size 432x288 with 1 Axes>"
      ]
     },
     "metadata": {
      "needs_background": "light"
     },
     "output_type": "display_data"
    },
    {
     "data": {
      "image/png": "[encoded data removed]",
      "text/plain": [
       "<Figure size 432x288 with 1 Axes>"
      ]
     },
     "metadata": {
      "needs_background": "light"
     },
     "output_type": "display_data"
    }
   ],
   "source": [
    "plt.plot(Vx,p)\n",
    "plt.axis([0, 50, 0, 310])\n",
    "plt.title('5.Power(Rsh) Curve')\n",
    "plt.ylabel('Power in watts')\n",
    "plt.xlabel(\"V in Volts\")\n",
    "plt.show()\n",
    "\n",
    "plt.plot(Vx,p3)\n",
    "plt.axis([0, 50, 0, 310])\n",
    "plt.title('5.Power(10*Rsh) Curve')\n",
    "plt.ylabel('Power in watts')\n",
    "plt.xlabel(\"V in Volts\")\n",
    "plt.show()\n"
   ]
  },
  {
   "cell_type": "code",
   "execution_count": null,
   "metadata": {},
   "outputs": [],
   "source": []
  }
 ],
 "metadata": {
  "kernelspec": {
   "display_name": "Python 3",
   "language": "python",
   "name": "python3"
  },
  "language_info": {
   "codemirror_mode": {
    "name": "ipython",
    "version": 3
   },
   "file_extension": ".py",
   "mimetype": "text/x-python",
   "name": "python",
   "nbconvert_exporter": "python",
   "pygments_lexer": "ipython3",
   "version": "3.7.3"
  }
 },
 "nbformat": 4,
 "nbformat_minor": 2
}
